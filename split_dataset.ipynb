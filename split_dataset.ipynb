{
 "cells": [
  {
   "cell_type": "code",
   "execution_count": 7,
   "metadata": {},
   "outputs": [],
   "source": [
    "import pandas as pd\n",
    "import shutil\n",
    "from sklearn.model_selection import train_test_split\n",
    "import os"
   ]
  },
  {
   "cell_type": "code",
   "execution_count": 5,
   "metadata": {},
   "outputs": [],
   "source": [
    "# Paths\n",
    "source_images_folder = \"/home/shashank/All_code/train/images_resized_192\"\n",
    "source_csv_file = \"/home/shashank/All_code/Research/APTOS_dataset/aptos2019_blindness_detection/train_copy.csv\"\n",
    "train1_folder = \"/home/shashank/All_code/Research/APTOS_Detection/train1\"\n",
    "val1_folder = \"/home/shashank/All_code/Research/APTOS_Detection/val1\""
   ]
  },
  {
   "cell_type": "code",
   "execution_count": 6,
   "metadata": {},
   "outputs": [],
   "source": [
    "# Create train1 and val1 folders if they don't exist\n",
    "os.makedirs(train1_folder, exist_ok=True)\n",
    "os.makedirs(val1_folder, exist_ok=True)\n"
   ]
  },
  {
   "cell_type": "code",
   "execution_count": 8,
   "metadata": {},
   "outputs": [],
   "source": [
    "# Load CSV\n",
    "df = pd.read_csv(source_csv_file)\n",
    "\n",
    "# Splitting data into train1 and val1\n",
    "train_df, val_df = train_test_split(df, test_size=0.1, random_state=42)\n"
   ]
  },
  {
   "cell_type": "code",
   "execution_count": 9,
   "metadata": {},
   "outputs": [],
   "source": [
    "# Copy images to respective folders\n",
    "for _, row in train_df.iterrows():\n",
    "    image_id = row['id_code']\n",
    "    source_image_path = os.path.join(source_images_folder, f\"{image_id}.png\")\n",
    "    destination_image_path = os.path.join(train1_folder, f\"{image_id}.png\")\n",
    "    shutil.copyfile(source_image_path, destination_image_path)\n"
   ]
  },
  {
   "cell_type": "code",
   "execution_count": 10,
   "metadata": {},
   "outputs": [],
   "source": [
    "for _, row in val_df.iterrows():\n",
    "    image_id = row['id_code']\n",
    "    source_image_path = os.path.join(source_images_folder, f\"{image_id}.png\")\n",
    "    destination_image_path = os.path.join(val1_folder, f\"{image_id}.png\")\n",
    "    shutil.copyfile(source_image_path, destination_image_path)"
   ]
  },
  {
   "cell_type": "code",
   "execution_count": 11,
   "metadata": {},
   "outputs": [],
   "source": [
    "# Save train1 and val1 CSV files\n",
    "train1_csv_path = \"train1csv.csv\"\n",
    "val1_csv_path = \"val1csv.csv\"\n",
    "train_df.to_csv(train1_csv_path, index=False)\n",
    "val_df.to_csv(val1_csv_path, index=False)"
   ]
  }
 ],
 "metadata": {
  "kernelspec": {
   "display_name": "Cuda",
   "language": "python",
   "name": "python3"
  },
  "language_info": {
   "codemirror_mode": {
    "name": "ipython",
    "version": 3
   },
   "file_extension": ".py",
   "mimetype": "text/x-python",
   "name": "python",
   "nbconvert_exporter": "python",
   "pygments_lexer": "ipython3",
   "version": "3.11.7"
  }
 },
 "nbformat": 4,
 "nbformat_minor": 2
}
