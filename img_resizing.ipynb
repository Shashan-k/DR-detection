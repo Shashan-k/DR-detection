def resize_images(dataset_folder, output_folder, target_size=(192, 192)):
    # Create the output folder if it doesn't exist
    os.makedirs(output_folder, exist_ok=True)
    
    # List all files in the dataset folder
    files = os.listdir(dataset_folder)
    
    # Iterate over each file
    for file in files:
        # Construct the full path to the image file
        file_path = os.path.join(dataset_folder, file)
        
        # Check if the file is an image (with supported extension)
        if file.endswith(('.jpg', '.jpeg', '.png', '.bmp', '.gif')):
            # Open the image
            img = Image.open(file_path)
            
            # Resize the image
            resized_img = img.resize(target_size, Image.ANTIALIAS)
            
            # Construct the path for saving the resized image
            output_path = os.path.join(output_folder, file)
            
            # Save the resized image
            resized_img.save(output_path)

# Example usage
dataset_folder = '/home/shashank/All_code/Research/APTOS_DDPM/data_aptos/class_4'
output_folder = '/home/shashank/All_code/Research/APTOS_DDPM/class_4_resized_192'
resize_images(dataset_folder, output_folder)
