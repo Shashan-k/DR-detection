import pandas as pd
import numpy as np
import matplotlib.pyplot as plt
import cv2
import warnings
warnings.filterwarnings('ignore')
import os

# Path to the folder containing the images
folder_path = "/home/shashank/All_code/Research/APTOS_DDPM/generatedSample_192_W128_class4"

# List all files in the folder
files = os.listdir(folder_path)

# Filter out only image files (you can add more extensions if needed)
image_files = [f for f in files if f.lower().endswith(('.png', '.jpg', '.jpeg', '.gif', '.bmp'))]

# Rename and save the images
for i, old_name in enumerate(image_files):
    extension = os.path.splitext(old_name)[1]
    new_name = f"image_{i+1}{extension}"
    os.rename(os.path.join(folder_path, old_name), os.path.join(folder_path, new_name))
    print(f"Renamed {old_name} to {new_name}")
